{
 "cells": [
  {
   "cell_type": "code",
   "execution_count": 176,
   "metadata": {},
   "outputs": [],
   "source": [
    "import pandas as pd\n",
    "import seaborn as sns\n",
    "from ipywidgets import widgets\n",
    "from IPython.display import display"
   ]
  },
  {
   "cell_type": "code",
   "execution_count": 180,
   "metadata": {},
   "outputs": [
    {
     "name": "stdout",
     "output_type": "stream",
     "text": [
      "Found 4151 runs\n"
     ]
    },
    {
     "data": {
      "application/vnd.jupyter.widget-view+json": {
       "model_id": "12dc7f8c6fcb400b872e75ae42db06f5",
       "version_major": 2,
       "version_minor": 0
      },
      "text/plain": [
       "Button(button_style='success', description='Update Data Frame', icon='refresh', layout=Layout(width='30%'), st…"
      ]
     },
     "metadata": {},
     "output_type": "display_data"
    }
   ],
   "source": [
    "import numpy as np\n",
    "from glob import glob\n",
    "from json import loads\n",
    "\n",
    "df = None\n",
    "def update_df():\n",
    "    global df\n",
    "\n",
    "    glob_path = \"./implementation/test/history/**/*.json\"\n",
    "\n",
    "    runs = []\n",
    "    for run_output_filepath in glob(glob_path, recursive=True):\n",
    "        with open(run_output_filepath) as run_output:\n",
    "            run_json = loads(run_output.read())\n",
    "            runs.append(run_json)\n",
    "\n",
    "    if not runs:\n",
    "        raise Exception(\"No runs found\")\n",
    "    else:\n",
    "        print(f\"Found {len(runs)} runs\")\n",
    "\n",
    "\n",
    "    newDF = pd.DataFrame(runs)\n",
    "    newDF = newDF.rename(columns={\n",
    "        \"lang\": \"language\"\n",
    "    })\n",
    "\n",
    "    newDF = newDF.assign(\n",
    "        # Super fragile replace but works for now\n",
    "        payload=lambda df: df[\"payload\"].map(\n",
    "            lambda payload: loads(payload.replace(\";\", \",\"))),\n",
    "\n",
    "        runtime=lambda df: df[\"runtime\"].astype(float),\n",
    "        roundTripTime=lambda df: df[\"roundTripTime\"].astype(float),\n",
    "        newcontainer=lambda df: df[\"newcontainer\"].astype(int),\n",
    "\n",
    "        filter=lambda df: df[\"payload\"].map(\n",
    "            lambda payload: f\"{payload['filter']} x {payload.get('repeats', 1)}\"),\n",
    "        filename=lambda df: df[\"payload\"].map(lambda payload: payload[\"key\"]),\n",
    "        containerState=lambda df: np.where(\n",
    "            df[\"newcontainer\"] == 1, \"cold\", \"hot\"\n",
    "        ),\n",
    "        language=lambda df: df[\"language\"].map({\n",
    "            \"java\": \"Java\",\n",
    "            \"node.js\": \"JavaScript\",\n",
    "        }),\n",
    "\n",
    "        pixelDimensions=lambda df: df[\"filename\"].map(\n",
    "            lambda filename: tuple(map(int, filename.split(\"@\")[0].split(\"x\")))),\n",
    "        pixelAmount=lambda df: df[\"pixelDimensions\"].map(\n",
    "            lambda dimensions: dimensions[0] * dimensions[1]),\n",
    "\n",
    "        shortName=lambda df:\n",
    "        df[\"filename\"].map(lambda filename: filename.split(\"-\")[1].strip()[:-4]),\n",
    "\n",
    "        fileID=lambda df: df[\"shortName\"] + \" \" + df[\"pixelDimensions\"].astype(str),\n",
    "    )\n",
    "    df = newDF\n",
    "\n",
    "update_df()\n",
    "\n",
    "display(widgets.Button(description=\"Update Data Frame\",\n",
    "        button_style=\"success\", icon=\"refresh\",\n",
    "        on_click=lambda _: update_df(), layout=widgets.Layout(width=\"30%\")))\n"
   ]
  },
  {
   "cell_type": "code",
   "execution_count": 131,
   "metadata": {},
   "outputs": [
    {
     "name": "stdout",
     "output_type": "stream",
     "text": [
      "payload : unhashable type: 'dict'\n",
      "key : Invalid selection: value not found\n",
      "bucket : Invalid selection: value not found\n",
      "message : Invalid selection: value not found\n"
     ]
    },
    {
     "data": {
      "application/vnd.jupyter.widget-view+json": {
       "model_id": "cb354bb799864bf7adb7be4fb0b4ca65",
       "version_major": 2,
       "version_minor": 0
      },
      "text/plain": [
       "Dropdown(description='cpuType', options=('Intel(R) Xeon(R) Processor @ 2.50GHz - Model 63', 'Intel(R) Xeon(R) …"
      ]
     },
     "metadata": {},
     "output_type": "display_data"
    },
    {
     "data": {
      "application/vnd.jupyter.widget-view+json": {
       "model_id": "e323e745de0f450e95c0467dcd72f87b",
       "version_major": 2,
       "version_minor": 0
      },
      "text/plain": [
       "Dropdown(description='language', options=('Java', 'JavaScript'), value='Java')"
      ]
     },
     "metadata": {},
     "output_type": "display_data"
    },
    {
     "data": {
      "application/vnd.jupyter.widget-view+json": {
       "model_id": "0d556bd45ab9489bbb3a9e36085448eb",
       "version_major": 2,
       "version_minor": 0
      },
      "text/plain": [
       "Dropdown(description='functionName', options=('imageProcessingJava', 'imageProcessingJavaScript'), value='imag…"
      ]
     },
     "metadata": {},
     "output_type": "display_data"
    },
    {
     "data": {
      "application/vnd.jupyter.widget-view+json": {
       "model_id": "d1e1204273f74c27a52a826113fbba69",
       "version_major": 2,
       "version_minor": 0
      },
      "text/plain": [
       "Dropdown(description='filter', options=('flipVertical x 1', 'greyscale x 1', 'soften x 8', 'soften x 1'), valu…"
      ]
     },
     "metadata": {},
     "output_type": "display_data"
    },
    {
     "data": {
      "application/vnd.jupyter.widget-view+json": {
       "model_id": "0c80583b2c9443f2a724ad1ddd1a54fd",
       "version_major": 2,
       "version_minor": 0
      },
      "text/plain": [
       "Dropdown(description='filename', options=('50x50@5KB - osu.jpg', '256x256@17KB - husky.jpg', '700x466@384KB - …"
      ]
     },
     "metadata": {},
     "output_type": "display_data"
    },
    {
     "data": {
      "application/vnd.jupyter.widget-view+json": {
       "model_id": "d80afe7c980e45158147f719e8eb7ff5",
       "version_major": 2,
       "version_minor": 0
      },
      "text/plain": [
       "Dropdown(description='containerState', options=('hot', 'cold'), value='hot')"
      ]
     },
     "metadata": {},
     "output_type": "display_data"
    },
    {
     "data": {
      "application/vnd.jupyter.widget-view+json": {
       "model_id": "70fa52be6cc247db9e2bb53133a7ada1",
       "version_major": 2,
       "version_minor": 0
      },
      "text/plain": [
       "Dropdown(description='pixelAmount', options=(2500, 65536, 326200, 2304000, 8294400, 19961856), value=2500)"
      ]
     },
     "metadata": {},
     "output_type": "display_data"
    },
    {
     "data": {
      "application/vnd.jupyter.widget-view+json": {
       "model_id": "e275f44127a14a68bdba21ce22121299",
       "version_major": 2,
       "version_minor": 0
      },
      "text/plain": [
       "Dropdown(description='shortName', options=('osu', 'husky', 'vietfood', 'deathstar', 'mountains', 'lanterns'), …"
      ]
     },
     "metadata": {},
     "output_type": "display_data"
    },
    {
     "data": {
      "application/vnd.jupyter.widget-view+json": {
       "model_id": "d217c4fb608342ec99473fc7dcc9f215",
       "version_major": 2,
       "version_minor": 0
      },
      "text/plain": [
       "Dropdown(description='fileID', options=('osu (50, 50)', 'husky (256, 256)', 'vietfood (700, 466)', 'deathstar …"
      ]
     },
     "metadata": {},
     "output_type": "display_data"
    }
   ],
   "source": [
    "def create_global_widgets():\n",
    "    global_widgets = {}\n",
    "    for (columnName, columnData) in df.items():\n",
    "        try:\n",
    "            if type(columnName) == str:\n",
    "                global_widgets[columnName] = widgets.Dropdown(\n",
    "                    options=columnData.unique(),\n",
    "                    description=columnName,\n",
    "                    disabled=False,\n",
    "                )\n",
    "        except Exception as e:\n",
    "            print(columnName, \":\", e)\n",
    "    return global_widgets\n",
    "\n",
    "columns_to_display = {\n",
    "    \"cpuType\", \"language\", \"functionName\", \"containerState\", \"filter\",\n",
    "    \"pixelAmount\", \"shortName\", \"fileID\", \"filename\",\n",
    "}\n",
    "global_widgets = create_global_widgets()\n",
    "display(*(\n",
    "    global_widget\n",
    "    for column, global_widget\n",
    "    in global_widgets.items()\n",
    "    if column in columns_to_display\n",
    "))"
   ]
  },
  {
   "cell_type": "code",
   "execution_count": 175,
   "metadata": {},
   "outputs": [
    {
     "data": {
      "application/vnd.jupyter.widget-view+json": {
       "model_id": "0c80583b2c9443f2a724ad1ddd1a54fd",
       "version_major": 2,
       "version_minor": 0
      },
      "text/plain": [
       "Dropdown(description='filename', options=('50x50@5KB - osu.jpg', '256x256@17KB - husky.jpg', '700x466@384KB - …"
      ]
     },
     "metadata": {},
     "output_type": "display_data"
    },
    {
     "data": {
      "text/plain": [
       "<seaborn.axisgrid.FacetGrid at 0x144a68873a0>"
      ]
     },
     "execution_count": 175,
     "metadata": {},
     "output_type": "execute_result"
    },
    {
     "data": {
      "image/png": "[encoded data removed]",
      "text/plain": [
       "<Figure size 2113.86x500 with 4 Axes>"
      ]
     },
     "metadata": {},
     "output_type": "display_data"
    }
   ],
   "source": [
    "filename = global_widgets[\"filename\"].value\n",
    "\n",
    "data = df[\n",
    "    (df[\"filename\"] == filename) &\n",
    "    (df[\"language\"] == \"JavaScript\") &\n",
    "    True\n",
    "]\n",
    "\n",
    "results = sns.catplot(\n",
    "    data,\n",
    "    kind=\"bar\",\n",
    "    x=\"language\", y=\"runtime\",\n",
    "    hue=\"containerState\",\n",
    "    col=\"filter\", palette=[\"#eb1c24\", \"#00adef\"],\n",
    ")\n",
    "results.set_ylabels(\"Runtime (ms)\")\n",
    "results.figure.subplots_adjust(top=0.8)\n",
    "results.figure.suptitle(f\"Runtime Info for `{filename}` (Hot/Cold)\")\n",
    "\n",
    "display(global_widgets[\"filename\"])\n",
    "results"
   ]
  },
  {
   "cell_type": "code",
   "execution_count": 161,
   "metadata": {},
   "outputs": [
    {
     "data": {
      "application/vnd.jupyter.widget-view+json": {
       "model_id": "0c80583b2c9443f2a724ad1ddd1a54fd",
       "version_major": 2,
       "version_minor": 0
      },
      "text/plain": [
       "Dropdown(description='filename', index=5, options=('50x50@5KB - osu.jpg', '256x256@17KB - husky.jpg', '700x466…"
      ]
     },
     "metadata": {},
     "output_type": "display_data"
    },
    {
     "data": {
      "text/plain": [
       "<seaborn.axisgrid.FacetGrid at 0x144e1a0b010>"
      ]
     },
     "execution_count": 161,
     "metadata": {},
     "output_type": "execute_result"
    },
    {
     "data": {
      "image/png": "[encoded data removed]",
      "text/plain": [
       "<Figure size 2119.88x500 with 4 Axes>"
      ]
     },
     "metadata": {},
     "output_type": "display_data"
    }
   ],
   "source": [
    "filename = global_widgets[\"filename\"].value\n",
    "\n",
    "data = df[\n",
    "    (df[\"filename\"] == filename)\n",
    "]\n",
    "\n",
    "results = sns.catplot(\n",
    "    data,\n",
    "    kind=\"bar\",\n",
    "    x=\"containerState\", y=\"runtime\",\n",
    "    hue=\"language\",\n",
    "    col=\"filter\",\n",
    ")\n",
    "results.set_ylabels(\"Runtime (ms)\")\n",
    "results.figure.subplots_adjust(top=0.8)\n",
    "results.figure.suptitle(f\"Runtime Info for `{filename}` (Language)\")\n",
    "\n",
    "display(global_widgets[\"filename\"])\n",
    "results"
   ]
  },
  {
   "cell_type": "code",
   "execution_count": 169,
   "metadata": {},
   "outputs": [
    {
     "name": "stdout",
     "output_type": "stream",
     "text": [
      "Found 3851 runs\n"
     ]
    },
    {
     "data": {
      "text/html": [
       "<div>\n",
       "<style scoped>\n",
       "    .dataframe tbody tr th:only-of-type {\n",
       "        vertical-align: middle;\n",
       "    }\n",
       "\n",
       "    .dataframe tbody tr th {\n",
       "        vertical-align: top;\n",
       "    }\n",
       "\n",
       "    .dataframe thead th {\n",
       "        text-align: right;\n",
       "    }\n",
       "</style>\n",
       "<table border=\"1\" class=\"dataframe\">\n",
       "  <thead>\n",
       "    <tr style=\"text-align: right;\">\n",
       "      <th></th>\n",
       "      <th></th>\n",
       "      <th></th>\n",
       "      <th></th>\n",
       "      <th>average runtime (ms)</th>\n",
       "      <th>standard deviation</th>\n",
       "      <th>sample size</th>\n",
       "    </tr>\n",
       "    <tr>\n",
       "      <th>fileID</th>\n",
       "      <th>filter</th>\n",
       "      <th>containerState</th>\n",
       "      <th>language</th>\n",
       "      <th></th>\n",
       "      <th></th>\n",
       "      <th></th>\n",
       "    </tr>\n",
       "  </thead>\n",
       "  <tbody>\n",
       "    <tr>\n",
       "      <th rowspan=\"4\" valign=\"top\">deathstar (1920, 1200)</th>\n",
       "      <th rowspan=\"4\" valign=\"top\">soften x 8</th>\n",
       "      <th rowspan=\"2\" valign=\"top\">cold</th>\n",
       "      <th>Java</th>\n",
       "      <td>9596.689655</td>\n",
       "      <td>423.578472</td>\n",
       "      <td>29</td>\n",
       "    </tr>\n",
       "    <tr>\n",
       "      <th>JavaScript</th>\n",
       "      <td>4054.703704</td>\n",
       "      <td>120.213853</td>\n",
       "      <td>27</td>\n",
       "    </tr>\n",
       "    <tr>\n",
       "      <th rowspan=\"2\" valign=\"top\">hot</th>\n",
       "      <th>Java</th>\n",
       "      <td>4659.258065</td>\n",
       "      <td>800.475316</td>\n",
       "      <td>31</td>\n",
       "    </tr>\n",
       "    <tr>\n",
       "      <th>JavaScript</th>\n",
       "      <td>4223.741935</td>\n",
       "      <td>351.482382</td>\n",
       "      <td>31</td>\n",
       "    </tr>\n",
       "    <tr>\n",
       "      <th rowspan=\"4\" valign=\"top\">husky (256, 256)</th>\n",
       "      <th rowspan=\"4\" valign=\"top\">soften x 8</th>\n",
       "      <th rowspan=\"2\" valign=\"top\">cold</th>\n",
       "      <th>Java</th>\n",
       "      <td>3572.678571</td>\n",
       "      <td>372.516970</td>\n",
       "      <td>28</td>\n",
       "    </tr>\n",
       "    <tr>\n",
       "      <th>JavaScript</th>\n",
       "      <td>684.178571</td>\n",
       "      <td>980.900646</td>\n",
       "      <td>28</td>\n",
       "    </tr>\n",
       "    <tr>\n",
       "      <th rowspan=\"2\" valign=\"top\">hot</th>\n",
       "      <th>Java</th>\n",
       "      <td>408.718750</td>\n",
       "      <td>175.204072</td>\n",
       "      <td>32</td>\n",
       "    </tr>\n",
       "    <tr>\n",
       "      <th>JavaScript</th>\n",
       "      <td>595.781250</td>\n",
       "      <td>78.470350</td>\n",
       "      <td>32</td>\n",
       "    </tr>\n",
       "    <tr>\n",
       "      <th rowspan=\"4\" valign=\"top\">lanterns (5472, 3648)</th>\n",
       "      <th rowspan=\"4\" valign=\"top\">soften x 8</th>\n",
       "      <th rowspan=\"2\" valign=\"top\">cold</th>\n",
       "      <th>Java</th>\n",
       "      <td>64020.321429</td>\n",
       "      <td>2464.972707</td>\n",
       "      <td>28</td>\n",
       "    </tr>\n",
       "    <tr>\n",
       "      <th>JavaScript</th>\n",
       "      <td>33805.259259</td>\n",
       "      <td>529.130680</td>\n",
       "      <td>27</td>\n",
       "    </tr>\n",
       "    <tr>\n",
       "      <th rowspan=\"2\" valign=\"top\">hot</th>\n",
       "      <th>Java</th>\n",
       "      <td>52740.468750</td>\n",
       "      <td>3182.141397</td>\n",
       "      <td>32</td>\n",
       "    </tr>\n",
       "    <tr>\n",
       "      <th>JavaScript</th>\n",
       "      <td>34135.312500</td>\n",
       "      <td>2853.796955</td>\n",
       "      <td>32</td>\n",
       "    </tr>\n",
       "    <tr>\n",
       "      <th rowspan=\"4\" valign=\"top\">mountains (3840, 2160)</th>\n",
       "      <th rowspan=\"4\" valign=\"top\">soften x 8</th>\n",
       "      <th rowspan=\"2\" valign=\"top\">cold</th>\n",
       "      <th>Java</th>\n",
       "      <td>25939.000000</td>\n",
       "      <td>750.606326</td>\n",
       "      <td>29</td>\n",
       "    </tr>\n",
       "    <tr>\n",
       "      <th>JavaScript</th>\n",
       "      <td>13226.777778</td>\n",
       "      <td>939.886382</td>\n",
       "      <td>27</td>\n",
       "    </tr>\n",
       "    <tr>\n",
       "      <th rowspan=\"2\" valign=\"top\">hot</th>\n",
       "      <th>Java</th>\n",
       "      <td>18959.709677</td>\n",
       "      <td>2775.145104</td>\n",
       "      <td>31</td>\n",
       "    </tr>\n",
       "    <tr>\n",
       "      <th>JavaScript</th>\n",
       "      <td>13504.303030</td>\n",
       "      <td>1221.716479</td>\n",
       "      <td>33</td>\n",
       "    </tr>\n",
       "    <tr>\n",
       "      <th rowspan=\"4\" valign=\"top\">osu (50, 50)</th>\n",
       "      <th rowspan=\"4\" valign=\"top\">soften x 8</th>\n",
       "      <th rowspan=\"2\" valign=\"top\">cold</th>\n",
       "      <th>Java</th>\n",
       "      <td>3205.178571</td>\n",
       "      <td>139.663631</td>\n",
       "      <td>28</td>\n",
       "    </tr>\n",
       "    <tr>\n",
       "      <th>JavaScript</th>\n",
       "      <td>294.461538</td>\n",
       "      <td>26.628152</td>\n",
       "      <td>26</td>\n",
       "    </tr>\n",
       "    <tr>\n",
       "      <th rowspan=\"2\" valign=\"top\">hot</th>\n",
       "      <th>Java</th>\n",
       "      <td>159.843750</td>\n",
       "      <td>86.475098</td>\n",
       "      <td>32</td>\n",
       "    </tr>\n",
       "    <tr>\n",
       "      <th>JavaScript</th>\n",
       "      <td>465.323529</td>\n",
       "      <td>118.384254</td>\n",
       "      <td>34</td>\n",
       "    </tr>\n",
       "    <tr>\n",
       "      <th rowspan=\"4\" valign=\"top\">vietfood (700, 466)</th>\n",
       "      <th rowspan=\"4\" valign=\"top\">soften x 8</th>\n",
       "      <th rowspan=\"2\" valign=\"top\">cold</th>\n",
       "      <th>Java</th>\n",
       "      <td>4498.071429</td>\n",
       "      <td>281.262620</td>\n",
       "      <td>28</td>\n",
       "    </tr>\n",
       "    <tr>\n",
       "      <th>JavaScript</th>\n",
       "      <td>978.407407</td>\n",
       "      <td>59.179817</td>\n",
       "      <td>27</td>\n",
       "    </tr>\n",
       "    <tr>\n",
       "      <th rowspan=\"2\" valign=\"top\">hot</th>\n",
       "      <th>Java</th>\n",
       "      <td>1096.656250</td>\n",
       "      <td>387.542015</td>\n",
       "      <td>32</td>\n",
       "    </tr>\n",
       "    <tr>\n",
       "      <th>JavaScript</th>\n",
       "      <td>1092.875000</td>\n",
       "      <td>102.536775</td>\n",
       "      <td>32</td>\n",
       "    </tr>\n",
       "  </tbody>\n",
       "</table>\n",
       "</div>"
      ],
      "text/plain": [
       "                                                             average runtime (ms)  \\\n",
       "fileID                 filter     containerState language                           \n",
       "deathstar (1920, 1200) soften x 8 cold           Java                 9596.689655   \n",
       "                                                 JavaScript           4054.703704   \n",
       "                                  hot            Java                 4659.258065   \n",
       "                                                 JavaScript           4223.741935   \n",
       "husky (256, 256)       soften x 8 cold           Java                 3572.678571   \n",
       "                                                 JavaScript            684.178571   \n",
       "                                  hot            Java                  408.718750   \n",
       "                                                 JavaScript            595.781250   \n",
       "lanterns (5472, 3648)  soften x 8 cold           Java                64020.321429   \n",
       "                                                 JavaScript          33805.259259   \n",
       "                                  hot            Java                52740.468750   \n",
       "                                                 JavaScript          34135.312500   \n",
       "mountains (3840, 2160) soften x 8 cold           Java                25939.000000   \n",
       "                                                 JavaScript          13226.777778   \n",
       "                                  hot            Java                18959.709677   \n",
       "                                                 JavaScript          13504.303030   \n",
       "osu (50, 50)           soften x 8 cold           Java                 3205.178571   \n",
       "                                                 JavaScript            294.461538   \n",
       "                                  hot            Java                  159.843750   \n",
       "                                                 JavaScript            465.323529   \n",
       "vietfood (700, 466)    soften x 8 cold           Java                 4498.071429   \n",
       "                                                 JavaScript            978.407407   \n",
       "                                  hot            Java                 1096.656250   \n",
       "                                                 JavaScript           1092.875000   \n",
       "\n",
       "                                                             standard deviation  \\\n",
       "fileID                 filter     containerState language                         \n",
       "deathstar (1920, 1200) soften x 8 cold           Java                423.578472   \n",
       "                                                 JavaScript          120.213853   \n",
       "                                  hot            Java                800.475316   \n",
       "                                                 JavaScript          351.482382   \n",
       "husky (256, 256)       soften x 8 cold           Java                372.516970   \n",
       "                                                 JavaScript          980.900646   \n",
       "                                  hot            Java                175.204072   \n",
       "                                                 JavaScript           78.470350   \n",
       "lanterns (5472, 3648)  soften x 8 cold           Java               2464.972707   \n",
       "                                                 JavaScript          529.130680   \n",
       "                                  hot            Java               3182.141397   \n",
       "                                                 JavaScript         2853.796955   \n",
       "mountains (3840, 2160) soften x 8 cold           Java                750.606326   \n",
       "                                                 JavaScript          939.886382   \n",
       "                                  hot            Java               2775.145104   \n",
       "                                                 JavaScript         1221.716479   \n",
       "osu (50, 50)           soften x 8 cold           Java                139.663631   \n",
       "                                                 JavaScript           26.628152   \n",
       "                                  hot            Java                 86.475098   \n",
       "                                                 JavaScript          118.384254   \n",
       "vietfood (700, 466)    soften x 8 cold           Java                281.262620   \n",
       "                                                 JavaScript           59.179817   \n",
       "                                  hot            Java                387.542015   \n",
       "                                                 JavaScript          102.536775   \n",
       "\n",
       "                                                             sample size  \n",
       "fileID                 filter     containerState language                 \n",
       "deathstar (1920, 1200) soften x 8 cold           Java                 29  \n",
       "                                                 JavaScript           27  \n",
       "                                  hot            Java                 31  \n",
       "                                                 JavaScript           31  \n",
       "husky (256, 256)       soften x 8 cold           Java                 28  \n",
       "                                                 JavaScript           28  \n",
       "                                  hot            Java                 32  \n",
       "                                                 JavaScript           32  \n",
       "lanterns (5472, 3648)  soften x 8 cold           Java                 28  \n",
       "                                                 JavaScript           27  \n",
       "                                  hot            Java                 32  \n",
       "                                                 JavaScript           32  \n",
       "mountains (3840, 2160) soften x 8 cold           Java                 29  \n",
       "                                                 JavaScript           27  \n",
       "                                  hot            Java                 31  \n",
       "                                                 JavaScript           33  \n",
       "osu (50, 50)           soften x 8 cold           Java                 28  \n",
       "                                                 JavaScript           26  \n",
       "                                  hot            Java                 32  \n",
       "                                                 JavaScript           34  \n",
       "vietfood (700, 466)    soften x 8 cold           Java                 28  \n",
       "                                                 JavaScript           27  \n",
       "                                  hot            Java                 32  \n",
       "                                                 JavaScript           32  "
      ]
     },
     "execution_count": 169,
     "metadata": {},
     "output_type": "execute_result"
    }
   ],
   "source": [
    "update_df()\n",
    "\n",
    "grouped_columns = [\n",
    "    # \"cpuType\",\n",
    "    \"fileID\", \"filter\", \"containerState\", \"language\",\n",
    "]\n",
    "data = df[\n",
    "    # df[\"shortName\"].isin([\"mountains\", \"lanterns\"]) &\n",
    "    df[\"filter\"].isin([\"soften x 8\"]) &\n",
    "    # df[\"containerState\"].isin([\"cold\"]) &\n",
    "    True\n",
    "]\n",
    "\n",
    "runtime_results = data.groupby(grouped_columns)[\"runtime\"] \\\n",
    "    .agg([\"mean\", \"std\", \"count\"])\n",
    "runtime_results = runtime_results.rename(columns={\n",
    "    \"mean\": \"average runtime (ms)\",\n",
    "    \"std\": \"standard deviation\",\n",
    "    \"count\": \"sample size\",\n",
    "})\n",
    "\n",
    "runtime_results"
   ]
  },
  {
   "cell_type": "code",
   "execution_count": null,
   "metadata": {},
   "outputs": [],
   "source": [
    "hot_results = sns.catplot(\n",
    "    df[df[\"containerState\"] == \"hot\"], x=\"fileID\", y=\"runtime\", hue=\"language\",\n",
    "    col=\"filter\", kind=\"bar\",\n",
    ")\n",
    "hot_results.set_axis_labels(\"File ID\", \"Runtime (ms)\")\n",
    "hot_results.set_titles(\"Filter: {col_name}\")\n",
    "hot_results.figure.subplots_adjust(top=0.8)\n",
    "hot_results.figure.suptitle(\"Runtimes for Hot Containers\")\n",
    "hot_results.set_xticklabels(rotation=80)\n",
    "\n",
    "hot_results"
   ]
  },
  {
   "cell_type": "code",
   "execution_count": null,
   "metadata": {},
   "outputs": [],
   "source": [
    "cold_results = sns.catplot(\n",
    "    df[df[\"containerState\"] == \"cold\"], x=\"pixelAmount\", y=\"runtime\", hue=\"language\",\n",
    "    col=\"filter\", kind=\"bar\",\n",
    ")\n",
    "cold_results.set_axis_labels(\"Filename\", \"Runtime (ms)\")\n",
    "cold_results.set_titles(\"Filter: {col_name}\")\n",
    "cold_results.figure.subplots_adjust(top=0.8)\n",
    "cold_results.figure.suptitle(\"Runtimes for Cold Containers\")\n",
    "cold_results.set_xticklabels(rotation=80)\n",
    "\n",
    "cold_results"
   ]
  },
  {
   "cell_type": "code",
   "execution_count": null,
   "metadata": {},
   "outputs": [],
   "source": [
    "hot_cold_results = sns.catplot(\n",
    "    df, x=\"shortName\", y=\"runtime\", hue=\"language\",\n",
    "    col=\"filter\", row=\"containerState\", kind=\"bar\",\n",
    ")\n",
    "hot_cold_results.set_axis_labels(\"Pixel Amount\", \"Runtime (ms)\")\n",
    "hot_cold_results.set_titles(\"Filter: {col_name}\\nContainer State: {row_name}\")\n",
    "hot_cold_results.figure.subplots_adjust(top=0.9)\n",
    "hot_cold_results.figure.suptitle(\"Runtimes for Hot/Cold Containers\")"
   ]
  },
  {
   "cell_type": "code",
   "execution_count": null,
   "metadata": {},
   "outputs": [],
   "source": [
    "hot_cold_javascript = sns.catplot(\n",
    "    df[\n",
    "        (df[\"language\"] == \"JavaScript\")\n",
    "        & (df[\"filter\"] == \"soften\")\n",
    "    ],\n",
    "    x=\"shortName\", y=\"runtime\",\n",
    "    hue=\"containerState\",\n",
    "    kind=\"bar\",\n",
    ")\n",
    "hot_cold_javascript.set(title=\"JavaScript Runtimes for Hot/Cold Containers\")\n",
    "hot_cold_javascript.set_xlabels(\"Filename\")\n",
    "hot_cold_javascript.set_ylabels(\"Runtime (ms)\")\n",
    "hot_cold_javascript.set_xticklabels(rotation=30)\n",
    "\n",
    "hot_cold_javascript"
   ]
  }
 ],
 "metadata": {
  "kernelspec": {
   "display_name": "Python 3.10.4 64-bit",
   "language": "python",
   "name": "python3"
  },
  "language_info": {
   "codemirror_mode": {
    "name": "ipython",
    "version": 3
   },
   "file_extension": ".py",
   "mimetype": "text/x-python",
   "name": "python",
   "nbconvert_exporter": "python",
   "pygments_lexer": "ipython3",
   "version": "3.10.4"
  },
  "orig_nbformat": 4,
  "vscode": {
   "interpreter": {
    "hash": "f765b8aedd47f5bf561fe6bf9b2bb2295880d3c51bad6bf88cb0576b6eb7723a"
   }
  }
 },
 "nbformat": 4,
 "nbformat_minor": 2
}
